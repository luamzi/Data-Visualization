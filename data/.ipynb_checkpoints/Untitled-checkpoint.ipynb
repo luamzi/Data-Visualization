{
 "cells": [
  {
   "cell_type": "code",
   "execution_count": 1,
   "id": "solved-bahamas",
   "metadata": {},
   "outputs": [],
   "source": [
    "import numpy as np\n",
    "import pandas as pd"
   ]
  },
  {
   "cell_type": "code",
   "execution_count": 46,
   "id": "behind-clause",
   "metadata": {},
   "outputs": [],
   "source": [
    "df_19 = pd.read_csv('situacao-academica-discentes-graduacao-2019-ufpe.csv').drop_duplicates()\n",
    "df_20 = pd.read_csv('situacao-academica-discentes-graduacao-2020-ufpe.csv').drop_duplicates()\n",
    "\n",
    "df = pd.concat([df_19, df_20]).drop_duplicates()\n",
    "df = df.set_index('NU_MATRICULA').drop_duplicates()"
   ]
  },
  {
   "cell_type": "code",
   "execution_count": 48,
   "id": "peripheral-benefit",
   "metadata": {},
   "outputs": [],
   "source": [
    "df.to_csv('situacao_academica_19_20.csv')"
   ]
  },
  {
   "cell_type": "code",
   "execution_count": 49,
   "id": "labeled-found",
   "metadata": {},
   "outputs": [],
   "source": [
    "beneficios_20 = pd.read_csv('beneficios-assistencia-estudantil-2020-proaes-ufpe.csv')"
   ]
  },
  {
   "cell_type": "code",
   "execution_count": 57,
   "id": "eleven-houston",
   "metadata": {},
   "outputs": [
    {
     "data": {
      "text/plain": [
       "0        NaN\n",
       "1        NaN\n",
       "2        NaN\n",
       "3        NaN\n",
       "4        NaN\n",
       "        ... \n",
       "72397    NaN\n",
       "72398    NaN\n",
       "72399    NaN\n",
       "72400    NaN\n",
       "72401    NaN\n",
       "Name: DATA_FIM, Length: 72402, dtype: object"
      ]
     },
     "execution_count": 57,
     "metadata": {},
     "output_type": "execute_result"
    }
   ],
   "source": [
    "beneficios_20['DATA_FIM']"
   ]
  }
 ],
 "metadata": {
  "kernelspec": {
   "display_name": "Python 3",
   "language": "python",
   "name": "python3"
  },
  "language_info": {
   "codemirror_mode": {
    "name": "ipython",
    "version": 3
   },
   "file_extension": ".py",
   "mimetype": "text/x-python",
   "name": "python",
   "nbconvert_exporter": "python",
   "pygments_lexer": "ipython3",
   "version": "3.6.12"
  }
 },
 "nbformat": 4,
 "nbformat_minor": 5
}
